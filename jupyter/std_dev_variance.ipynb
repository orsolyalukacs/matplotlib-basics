{
 "cells": [
  {
   "cell_type": "markdown",
   "id": "satisfactory-sacrifice",
   "metadata": {},
   "source": [
    "## Standard Deviation and variance"
   ]
  },
  {
   "cell_type": "code",
   "execution_count": 13,
   "id": "former-treat",
   "metadata": {},
   "outputs": [
    {
     "data": {
      "image/png": "[encoded data removed]",
      "text/plain": [
       "<Figure size 432x288 with 1 Axes>"
      ]
     },
     "metadata": {
      "needs_background": "light"
     },
     "output_type": "display_data"
    }
   ],
   "source": [
    "import numpy as np\n",
    "import matplotlib.pyplot as plt\n",
    "\n",
    "#centered around 100, standard deviation of 20, 10000 data points\n",
    "incomes = np.random.normal(100.0, 20.0, 10000) \n",
    "\n",
    "plt.hist(incomes, 50)\n",
    "plt.show()"
   ]
  },
  {
   "cell_type": "code",
   "execution_count": 6,
   "id": "pending-literacy",
   "metadata": {},
   "outputs": [
    {
     "data": {
      "text/plain": [
       "20.021602727333274"
      ]
     },
     "execution_count": 6,
     "metadata": {},
     "output_type": "execute_result"
    }
   ],
   "source": [
    "incomes.std() #compute the standard deviation on the data set"
   ]
  },
  {
   "cell_type": "code",
   "execution_count": 7,
   "id": "familiar-mathematics",
   "metadata": {},
   "outputs": [
    {
     "data": {
      "text/plain": [
       "400.86457577115914"
      ]
     },
     "execution_count": 7,
     "metadata": {},
     "output_type": "execute_result"
    }
   ],
   "source": [
    "incomes.var() #compute the variance"
   ]
  }
 ],
 "metadata": {
  "kernelspec": {
   "display_name": "Python 3",
   "language": "python",
   "name": "python3"
  },
  "language_info": {
   "codemirror_mode": {
    "name": "ipython",
    "version": 3
   },
   "file_extension": ".py",
   "mimetype": "text/x-python",
   "name": "python",
   "nbconvert_exporter": "python",
   "pygments_lexer": "ipython3",
   "version": "3.9.2"
  }
 },
 "nbformat": 4,
 "nbformat_minor": 5
}